{
 "cells": [
  {
   "cell_type": "code",
   "execution_count": 2,
   "id": "e4f9b245",
   "metadata": {},
   "outputs": [
    {
     "data": {
      "text/plain": [
       "True"
      ]
     },
     "execution_count": 2,
     "metadata": {},
     "output_type": "execute_result"
    }
   ],
   "source": [
    "from dotenv import  load_dotenv\n",
    "load_dotenv()"
   ]
  },
  {
   "cell_type": "code",
   "execution_count": 7,
   "id": "862bb33b",
   "metadata": {},
   "outputs": [
    {
     "data": {
      "text/plain": [
       "AIMessage(content='<think>\\n\\n</think>\\n\\nNo, Robotic Process Automation (RPA) is not dead as a technology. In fact, RPA continues to evolve and is widely adopted across various industries to automate repetitive, rule-based tasks. It has become a key component of digital transformation strategies, helping organizations improve efficiency, reduce errors, and lower operational costs.\\n\\nWhile RPA is often complemented by other technologies like Artificial Intelligence (AI) and Machine Learning (ML) to enhance its capabilities, the core concept of RPA remains relevant and effective. Many organizations are integrating RPA with more advanced automation tools to create end-to-end automation solutions.\\n\\nThat said, the RPA market is maturing, and as with any technology, it is evolving to meet new challenges and demands. The rise of intelligent automation, which combines RPA with AI, is an example of this evolution. However, RPA itself is not obsolete; it is adapting and growing within the broader automation landscape.\\n\\nIn summary, RPA is very much alive and continues to play a significant role in the automation strategies of businesses worldwide.', additional_kwargs={}, response_metadata={'token_usage': {'completion_tokens': 217, 'prompt_tokens': 10, 'total_tokens': 227, 'completion_time': 0.792273904, 'prompt_time': 0.000200397, 'queue_time': 0.057514183, 'total_time': 0.792474301}, 'model_name': 'deepseek-r1-distill-llama-70b', 'system_fingerprint': 'fp_1bbe7845ec', 'finish_reason': 'stop', 'logprobs': None}, id='run--6baaa8e2-c3e4-434b-8343-3567afdc0971-0', usage_metadata={'input_tokens': 10, 'output_tokens': 217, 'total_tokens': 227})"
      ]
     },
     "execution_count": 7,
     "metadata": {},
     "output_type": "execute_result"
    }
   ],
   "source": [
    "from langchain_groq import ChatGroq\n",
    "\n",
    "llm=ChatGroq(model=\"deepseek-r1-distill-llama-70b\")\n",
    "\n",
    "llm.invoke(\"Is RPA dead as technology?\")"
   ]
  },
  {
   "cell_type": "code",
   "execution_count": 8,
   "id": "c386367c",
   "metadata": {},
   "outputs": [],
   "source": [
    "from langchain_core.tools import tool\n",
    "from langchain_community.tools.tavily_search import TavilySearchResults"
   ]
  },
  {
   "cell_type": "code",
   "execution_count": 9,
   "id": "a2174071",
   "metadata": {},
   "outputs": [],
   "source": [
    "@tool\n",
    "def multiply(x: int, y: int) -> int:\n",
    "    \"\"\"Multiplies two numbers.\"\"\"\n",
    "    return x * y"
   ]
  },
  {
   "cell_type": "code",
   "execution_count": 10,
   "id": "24615849",
   "metadata": {},
   "outputs": [
    {
     "name": "stderr",
     "output_type": "stream",
     "text": [
      "C:\\Users\\Smartphone Garage\\AppData\\Local\\Temp\\ipykernel_10784\\4161870413.py:1: LangChainDeprecationWarning: The method `BaseTool.__call__` was deprecated in langchain-core 0.1.47 and will be removed in 1.0. Use :meth:`~invoke` instead.\n",
      "  multiply({\"x\":2, \"y\":3})\n"
     ]
    },
    {
     "data": {
      "text/plain": [
       "6"
      ]
     },
     "execution_count": 10,
     "metadata": {},
     "output_type": "execute_result"
    }
   ],
   "source": [
    "multiply({\"x\":2, \"y\":3})"
   ]
  },
  {
   "cell_type": "code",
   "execution_count": 11,
   "id": "698e037f",
   "metadata": {},
   "outputs": [],
   "source": [
    "@tool\n",
    "def search(query: str):\n",
    "    \"\"\"search the web for a query and return the results\"\"\"\n",
    "    tavily=TavilySearchResults()\n",
    "    result=tavily.invoke(query)\n",
    "    return f\"Result for {query} is: \\n{result}\""
   ]
  },
  {
   "cell_type": "code",
   "execution_count": 12,
   "id": "09d885d8",
   "metadata": {},
   "outputs": [
    {
     "name": "stdout",
     "output_type": "stream",
     "text": [
      "Result for What is the capital of France? is: \n",
      "[{'title': 'What is the Capital of France? - Mappr', 'url': 'https://www.mappr.co/capital-cities/france/', 'content': 'mappr logo\\nmappr logo\\n\\nHome » Capital Cities » What is the Capital of France?\\n\\n# What is the Capital of France?\\n\\nParis is the capital of France. Also known as the “City of Light,” is not only the capital but also the most populous city of France. Paris is renowned globally for its art, fashion, gastronomy, and culture.\\n\\nA map showing France in yellow with surrounding countries in white, major cities marked, and Paris highlighted with a black dot. [...] However, Paris only became the official capital of France during the reign of Clovis I, in the late 5th and early 6th century. Before Clovis, the Merovingian kings did not rule from a fixed capital, but Clovis established his court in Paris, effectively making it the capital. Since then, with some interruptions, Paris has remained the capital of France. [...] The Palace of Versailles, a royal residence in the Île-de-France, stands as a symbol of the unmitigated monarchy of the Ancien Régime. Its origins trace back to a hunting lodge established by Louis XIII, later transformed and expanded by his son Louis XIV, resulting in the relocation of France’s court and government to Versailles in 1682.', 'score': 0.9401831}, {'title': 'Paris facts: the capital of France in history', 'url': 'https://home.adelphi.edu/~ca19535/page%204.html', 'content': 'page 4\\n\\n===============\\n\\nHomeSpainSydneySan FranciscoParisLas VegasMaui\\n\\n Paris, France\\n\\nImage 1\\n\\nParis facts: Paris, the capital of France\\n---------------------------------------------\\n\\nParis is the capital of France, the largest country of Europe with 550 000 km2 (65 millions inhabitants).\\n\\nParis has 2.234 million inhabitants end 2011. She is the core of Ile de France region (12 million people). [...] Before Paris, the capital of France was Lyon (under the Romans). Paris first became the capital of France in 508 under King Clovis. After centuries with no unique capital of France, Paris retrieved its status of capital of France under King Philippe Auguste, who reigned between 1180 and 1223. You can see remains of the Philippe August Paris walls in the passageway between the Louvre parking and Louvre Museum [...] Paris remained the capital of France until today, with one four year interruption. During German occupation (WW2 , 1940-1944), the capital of France was Vichy.\\n\\ngo to top\\n\\nReference:', 'score': 0.89166987}, {'title': 'Paris - Wikipedia', 'url': 'https://en.wikipedia.org/wiki/Paris', 'content': 'As the capital of France, Paris is the seat of France\\'s national government. For the executive, the two chief officers each have their own official residences, which also serve as their offices. The President of the French Republic resides at the Élysée Palace.( The Prime Minister\\'s seat is at the Hôtel Matignon.( Government ministries are located in various parts of the city, many near the Hôtel Matignon.( [...] Appearance\\n\\nmove to sidebar hide\\n\\nCoordinates: 48°51′24″N 2°21′8″E / 48.85667°N 2.35222°E / 48.85667; 2.35222_region:FR-75C)\\n\\nImage 4: This is a good article. Click here for more information.\\n\\nImage 5: Page semi-protected\\n\\nFrom Wikipedia, the free encyclopedia\\n\\nCapital and largest city of France\\n\\nThis article is about the capital city of France. For other uses, see Paris (disambiguation) \"Paris (disambiguation)\"). [...] Paris (French pronunciation:( \"Help:IPA/French\")ⓘ) is the capital and largest city of France. With an estimated population of 2,048,472 residents in January 2025( in an area of more than 105 km 2 (41 sq mi),( Paris is the fourth-most populous city in the European Union and the 30th most densely populated city in the world in 2022.( Since the 17th century, Paris has been one of the world\\'s major centres of finance, diplomacy, commerce, culture, fashion, and gastronomy. Because of its leading', 'score': 0.8815438}, {'title': 'Paris, Capital city of France - The World Countries', 'url': 'https://theworldcountries.com/geo/capital-city/Paris', 'content': \"Paris (French pronunciation: \\\\[paʁi\\\\] ) is the capital and largest city of France. With an estimated population of 2,048,472 residents in January 2025 in an area of more than 105 km2 (41 sq mi), Paris is the fourth-most populous city in the European Union and the 30th most densely populated city in the world in 2022. Since the 17th century, Paris has been one of the world's major centres of finance, diplomacy, commerce, culture, fashion, and gastronomy. Because of its leading role in the arts [...] Where in the World is Paris found? Paris is the capital of France (French Republic), situated in the Western Europe subregion of Europe. In Paris, the currency used is Euro (€), which is the official currency used in France. The Latitude, Longitude cordinates of Paris are 48.8534, 2.3488.\\n\\n##### About Paris\\n\\n| \\nParis\\n\\n |\\n| --- |\\n| \\n\\nCapital city, commune and department\\n\\n |\\n| \\n\\nImage 4\\n\\nEiffel Tower and the Seine from Tour Saint-Jacques\\n\\nImage 5\\n\\nNotre-Dame\\n\\nImage 6\\n\\nSacré-Cœur\\n\\nImage 7 [...] Paris, Capital city of France - The World Countries\\n===============\\n\\n Image 1 Factbook\\n\\nOpen main menu\\n\\n   Home\\n   Africa\\n   Europe\\n   Asia\\n   South America\\n   North America\\n   Oceania\\n   Antarctica\\n\\n1.  Home\\n\\n3.  Europe\\n\\n5.  Western Europe\\n\\n7.  FR\\n\\n9.  Paris\\n\\n##### Paris - Introduction\\n\\nImage 2: User Country Flag\\n\\n7:37:55 PM\\n\\nFriday, April 18, 2025\\n\\namerica/los\\\\_angeles\\n\\nImage 3: Flag\\n\\n4:37:55 AM\\n\\nSaturday, April 19, 2025\\n\\nEurope/Paris\", 'score': 0.8808076}, {'title': 'What is the Capital of France? - WorldAtlas', 'url': 'https://www.worldatlas.com/articles/what-is-the-capital-of-france.html', 'content': 'Paris is the capital city of France. The city has an approximate area of 41 square miles with a population of 2,206,488 people as of 2018. Contrary to popular belief, the name of the city did not come from the Paris in Greek myths. Instead, the name Paris is derived from the city’s initial inhabitants who were part of the Celtic Parisii tribe. Sometimes, the city is called the City of Light for two reasons; it was among the first cities to adopt gas for lighting the streets and its role during [...] Published Time: 2018-06-29T15:23:00-04:00\\n\\nWhat is the Capital of France? - WorldAtlas\\n\\n===============\\n\\nWhat is the Capital of France?\\n==============================\\n\\nImage 1: Tourism has always been a major source of income for Paris. \\n\\nTourism has always been a major source of income for Paris. [...] As the capital city of France, the city plays host to the national government of France. Even the official residence of the president is in the city at the Élysée Palace while the Prime Minister is housed at the Hôtel Matignon. The Senate or the upper house meets at the Palais du Luxembourg while the Palais Bourbon is the meeting point for the Assemblée Nationale. The second highest public official after the President of France, the President of the Senate, stays at the Petit Luxembourg.', 'score': 0.87807417}]\n"
     ]
    }
   ],
   "source": [
    "print(search.invoke({\"query\":\"What is the capital of France?\"}))"
   ]
  },
  {
   "cell_type": "code",
   "execution_count": 13,
   "id": "450a6dfe",
   "metadata": {},
   "outputs": [],
   "source": [
    "tools = [multiply, search]"
   ]
  },
  {
   "cell_type": "code",
   "execution_count": 14,
   "id": "1298f479",
   "metadata": {},
   "outputs": [],
   "source": [
    "llm_with_tools=llm.bind_tools(tools)"
   ]
  },
  {
   "cell_type": "code",
   "execution_count": 16,
   "id": "097c3e19",
   "metadata": {},
   "outputs": [],
   "source": [
    "result=llm_with_tools.invoke(\"what is current gdp of india?\")"
   ]
  },
  {
   "cell_type": "code",
   "execution_count": 17,
   "id": "8d4e5d1c",
   "metadata": {},
   "outputs": [
    {
     "data": {
      "text/plain": [
       "[{'name': 'search',\n",
       "  'args': {'query': 'current GDP of India 2024'},\n",
       "  'id': 'r7vhp2zga',\n",
       "  'type': 'tool_call'}]"
      ]
     },
     "execution_count": 17,
     "metadata": {},
     "output_type": "execute_result"
    }
   ],
   "source": [
    "result.tool_calls"
   ]
  },
  {
   "cell_type": "code",
   "execution_count": 18,
   "id": "31b56bfc",
   "metadata": {},
   "outputs": [],
   "source": [
    "tool=result.tool_calls[0][\"name\"]"
   ]
  },
  {
   "cell_type": "code",
   "execution_count": 19,
   "id": "fe9cbc7a",
   "metadata": {},
   "outputs": [],
   "source": [
    "query=result.tool_calls[0][\"args\"]"
   ]
  },
  {
   "cell_type": "code",
   "execution_count": 21,
   "id": "484c6cbc",
   "metadata": {},
   "outputs": [
    {
     "data": {
      "text/plain": [
       "'search'"
      ]
     },
     "execution_count": 21,
     "metadata": {},
     "output_type": "execute_result"
    }
   ],
   "source": [
    "tool"
   ]
  },
  {
   "cell_type": "code",
   "execution_count": 22,
   "id": "3cb95b15",
   "metadata": {},
   "outputs": [
    {
     "data": {
      "text/plain": [
       "{'query': 'current GDP of India 2024'}"
      ]
     },
     "execution_count": 22,
     "metadata": {},
     "output_type": "execute_result"
    }
   ],
   "source": [
    "query"
   ]
  },
  {
   "cell_type": "code",
   "execution_count": 23,
   "id": "404db215",
   "metadata": {},
   "outputs": [],
   "source": [
    "tool_mapping={tool.name:tool for tool in tools}"
   ]
  },
  {
   "cell_type": "code",
   "execution_count": 24,
   "id": "053f7969",
   "metadata": {},
   "outputs": [
    {
     "data": {
      "text/plain": [
       "{'multiply': StructuredTool(name='multiply', description='Multiplies two numbers.', args_schema=<class 'langchain_core.utils.pydantic.multiply'>, func=<function multiply at 0x000002BD1052A0C0>),\n",
       " 'search': StructuredTool(name='search', description='search the web for a query and return the results', args_schema=<class 'langchain_core.utils.pydantic.search'>, func=<function search at 0x000002BD0F269BC0>)}"
      ]
     },
     "execution_count": 24,
     "metadata": {},
     "output_type": "execute_result"
    }
   ],
   "source": [
    "tool_mapping"
   ]
  },
  {
   "cell_type": "code",
   "execution_count": 25,
   "id": "b5bb9672",
   "metadata": {},
   "outputs": [
    {
     "data": {
      "text/plain": [
       "\"Result for current GDP of India 2024 is: \\n[{'title': 'India GDP - Gross Domestic Product 2024 | countryeconomy.com', 'url': 'https://countryeconomy.com/gdp/india?year=2024', 'content': 'The GDP figure in 2024 was €3,612,664$3,909,097 million, leaving India placed 5th in the ranking of GDP of the 196 countries that we publish. The absolute value of GDP in India rose €248,613$270,607 million with respect to 2023. [...] The GDP per capita of India in 2024 was €2,512$2,718, €173$188 higher than in 2023, it was €2,339$2,530. To view the evolution of the GDP per capita, it is interesting to look back a few years and compare these data with those of 2014 when the GDP per capita in India was €1,169$1,557.\\\\n\\\\nIf we order the countries according to their GDP per capita, India is in 142th position, its population has a low level of affluence compare tothe 196 countries whose GDP we publish. [...] ## Main navigation\\\\n\\\\nFacebook\\\\nTwitter\\\\n\\\\n## Top menu\\\\n\\\\n# India India GDP - Gross Domestic Product\\\\n\\\\nIndia\\\\nShare Whatsapp\\\\nShare Facebook\\\\nTwitter\\\\nShare Linkedin\\\\n\\\\nGDP India 2024\\\\n\\\\n## GDP grows 6.5% in India\\\\n\\\\nGross Domestic Product of India grew 6.5% in 2024 compared to last year. This rate is 27\\\\n-tenths of one percent less than the figure of 9.2% published in 2023.', 'score': 0.92507464}, {'title': 'India GDP 2025 - StatisticsTimes.com', 'url': 'https://www.statisticstimes.com/economy/country/india-gdp.php', 'content': 'The growth in GDP during 2023-24 is estimated at 6.48 percent. Nominal GDP, or GDP at current prices, in the year 2024-25 is estimated to attain a level of ₹ 295.36 lakh crore against the first revised estimates of ₹ 331.03.50 lakh crore in 2023-24, showing a change of 9.89 percent.', 'score': 0.90907925}, {'title': 'India Real GDP 2024 Estimate and 2025 Projection', 'url': 'https://www.worldeconomics.com/GrossDomesticProduct/Real-GDP/India.aspx', 'content': 'GDP in India is estimated to be $3.425 Trillion US dollars at the end of 2024 in Real GDP terms.', 'score': 0.90593183}, {'title': 'GDP of India 1987-2030| Statista', 'url': 'https://www.statista.com/statistics/263771/gross-domestic-product-gdp-in-india/', 'content': 'The statistic shows GDP in India from 1987 to 2024, with projections up until 2030. In 2024, GDP in India was at around 3.91 trillion U.S. dollars, and it is expected to reach six trillion by the', 'score': 0.89121616}, {'title': 'Press Release:Press Information Bureau', 'url': 'https://pib.gov.in/PressReleasePage.aspx?PRID=2090875', 'content': 'The growth rate in Real GDP during 2024-25 is estimated at 6.4% as compared to 8.2% in 2023-24. Nominal GDP or GDP at Current Prices is estimated to attain a level of ₹324.11 lakh crore in the year 2024-25, against ₹295.36 lakh crore in 2023-24, showing a growth rate of 9.7%.', 'score': 0.88420963}]\""
      ]
     },
     "execution_count": 25,
     "metadata": {},
     "output_type": "execute_result"
    }
   ],
   "source": [
    "#tool_mapping[result.tool_calls[0][\"name\"]].invoke(result.tool_calls[0][\"args\"])\n",
    "tool_mapping[tool].invoke(query)"
   ]
  },
  {
   "cell_type": "code",
   "execution_count": 31,
   "id": "8247b259",
   "metadata": {},
   "outputs": [],
   "source": [
    "from typing import TypedDict, Sequence, Annotated\n",
    "from langchain_core.messages import BaseMessage\n",
    "from langgraph.graph import StateGraph, START,END\n",
    "import operator"
   ]
  },
  {
   "cell_type": "code",
   "execution_count": 27,
   "id": "226e60f0",
   "metadata": {},
   "outputs": [],
   "source": [
    "class AgentState(TypedDict):\n",
    "    \"\"\"State for the agent.\"\"\"\n",
    "    messages: Annotated[Sequence[BaseMessage],operator.add]"
   ]
  },
  {
   "cell_type": "code",
   "execution_count": 28,
   "id": "8cff83f6",
   "metadata": {},
   "outputs": [],
   "source": [
    "def invoke_model(state:AgentState):\n",
    "    pass"
   ]
  },
  {
   "cell_type": "code",
   "execution_count": 29,
   "id": "3bc41709",
   "metadata": {},
   "outputs": [],
   "source": [
    "def router(state):\n",
    "    pass"
   ]
  },
  {
   "cell_type": "code",
   "execution_count": 30,
   "id": "489a2dfc",
   "metadata": {},
   "outputs": [],
   "source": [
    "def invoke_tool(state:AgentState):\n",
    "    pass"
   ]
  },
  {
   "cell_type": "code",
   "execution_count": 32,
   "id": "f81823c2",
   "metadata": {},
   "outputs": [],
   "source": [
    "graph=StateGraph(AgentState)"
   ]
  },
  {
   "cell_type": "code",
   "execution_count": 33,
   "id": "5d95faaa",
   "metadata": {},
   "outputs": [
    {
     "data": {
      "text/plain": [
       "<langgraph.graph.state.StateGraph at 0x2bd12625e50>"
      ]
     },
     "execution_count": 33,
     "metadata": {},
     "output_type": "execute_result"
    }
   ],
   "source": [
    "graph.add_node(\"ai_assistant\", invoke_model)"
   ]
  },
  {
   "cell_type": "markdown",
   "id": "2214083b",
   "metadata": {},
   "source": [
    "eariler we were using the tool node from list of tool\n",
    "\n",
    "but now we have create tool invoke(custom funtion)\n",
    "\n",
    "why we are doing it: as a user if we want to take a authority to which i need to give permission for execution"
   ]
  },
  {
   "cell_type": "code",
   "execution_count": 34,
   "id": "b3779d3c",
   "metadata": {},
   "outputs": [
    {
     "data": {
      "text/plain": [
       "<langgraph.graph.state.StateGraph at 0x2bd12625e50>"
      ]
     },
     "execution_count": 34,
     "metadata": {},
     "output_type": "execute_result"
    }
   ],
   "source": [
    "graph.add_node(\"tool\", invoke_tool)"
   ]
  },
  {
   "cell_type": "code",
   "execution_count": 35,
   "id": "57e1c0c0",
   "metadata": {},
   "outputs": [
    {
     "data": {
      "text/plain": [
       "<langgraph.graph.state.StateGraph at 0x2bd12625e50>"
      ]
     },
     "execution_count": 35,
     "metadata": {},
     "output_type": "execute_result"
    }
   ],
   "source": [
    "graph.add_conditional_edges(\"ai_assistant\",\n",
    "                            router,\n",
    "                            {\n",
    "                                \"tool\":\"tool\",\n",
    "                                \"end\":END\n",
    "                            }\n",
    "                            )"
   ]
  },
  {
   "cell_type": "code",
   "execution_count": 36,
   "id": "e34cdab9",
   "metadata": {},
   "outputs": [
    {
     "data": {
      "text/plain": [
       "<langgraph.graph.state.StateGraph at 0x2bd12625e50>"
      ]
     },
     "execution_count": 36,
     "metadata": {},
     "output_type": "execute_result"
    }
   ],
   "source": [
    "graph.add_edge(\"tool\", END)"
   ]
  },
  {
   "cell_type": "code",
   "execution_count": 37,
   "id": "4971ec5f",
   "metadata": {},
   "outputs": [
    {
     "data": {
      "text/plain": [
       "<langgraph.graph.state.StateGraph at 0x2bd12625e50>"
      ]
     },
     "execution_count": 37,
     "metadata": {},
     "output_type": "execute_result"
    }
   ],
   "source": [
    "graph.set_entry_point(\"ai_assistant\")"
   ]
  },
  {
   "cell_type": "code",
   "execution_count": 38,
   "id": "1c6fa1c0",
   "metadata": {},
   "outputs": [
    {
     "data": {
      "image/png": "[encoded data removed]",
      "text/plain": [
       "<langgraph.graph.state.CompiledStateGraph object at 0x000002BD12626550>"
      ]
     },
     "execution_count": 38,
     "metadata": {},
     "output_type": "execute_result"
    }
   ],
   "source": [
    "graph.compile()"
   ]
  }
 ],
 "metadata": {
  "kernelspec": {
   "display_name": ".venv",
   "language": "python",
   "name": "python3"
  },
  "language_info": {
   "codemirror_mode": {
    "name": "ipython",
    "version": 3
   },
   "file_extension": ".py",
   "mimetype": "text/x-python",
   "name": "python",
   "nbconvert_exporter": "python",
   "pygments_lexer": "ipython3",
   "version": "3.11.4"
  }
 },
 "nbformat": 4,
 "nbformat_minor": 5
}
