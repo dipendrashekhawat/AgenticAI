{
 "cells": [
  {
   "cell_type": "code",
   "execution_count": 90,
   "id": "52e2dd98",
   "metadata": {},
   "outputs": [],
   "source": [
    "def function1(input1):\n",
    "    return input1 + \" from function1\""
   ]
  },
  {
   "cell_type": "code",
   "execution_count": 91,
   "id": "a157a06e",
   "metadata": {},
   "outputs": [],
   "source": [
    "def function2(input2):\n",
    "    return input2 + \" from function2\""
   ]
  },
  {
   "cell_type": "code",
   "execution_count": 92,
   "id": "d5bb107e",
   "metadata": {},
   "outputs": [],
   "source": [
    "def function3(input3):\n",
    "    return input3 + \" from function3\""
   ]
  },
  {
   "cell_type": "code",
   "execution_count": 93,
   "id": "24a44bf4",
   "metadata": {},
   "outputs": [
    {
     "data": {
      "text/plain": [
       "'Deep from function1'"
      ]
     },
     "execution_count": 93,
     "metadata": {},
     "output_type": "execute_result"
    }
   ],
   "source": [
    "function1(\"Deep\")"
   ]
  },
  {
   "cell_type": "code",
   "execution_count": 94,
   "id": "396ebeb4",
   "metadata": {},
   "outputs": [
    {
     "data": {
      "text/plain": [
       "'Agent from function2'"
      ]
     },
     "execution_count": 94,
     "metadata": {},
     "output_type": "execute_result"
    }
   ],
   "source": [
    "function2(\"Agent\")"
   ]
  },
  {
   "cell_type": "code",
   "execution_count": 95,
   "id": "7523a75a",
   "metadata": {},
   "outputs": [],
   "source": [
    "from langgraph.graph import Graph"
   ]
  },
  {
   "cell_type": "code",
   "execution_count": 96,
   "id": "cdcab56d",
   "metadata": {},
   "outputs": [],
   "source": [
    "workflow1 = Graph()"
   ]
  },
  {
   "cell_type": "code",
   "execution_count": 97,
   "id": "c96b507c",
   "metadata": {},
   "outputs": [
    {
     "data": {
      "text/plain": [
       "<langgraph.graph.graph.Graph at 0x128db40d650>"
      ]
     },
     "execution_count": 97,
     "metadata": {},
     "output_type": "execute_result"
    }
   ],
   "source": [
    "workflow1.add_node(\"Func1\",function1)\n",
    "workflow1.add_node(\"Func2\",function2)\n",
    "workflow1.add_node(\"Func3\",function3)"
   ]
  },
  {
   "cell_type": "code",
   "execution_count": 99,
   "id": "1daf019b",
   "metadata": {},
   "outputs": [
    {
     "data": {
      "text/plain": [
       "<langgraph.graph.graph.Graph at 0x128db40d650>"
      ]
     },
     "execution_count": 99,
     "metadata": {},
     "output_type": "execute_result"
    }
   ],
   "source": [
    "workflow1.add_edge(\"Func1\",\"Func2\")"
   ]
  },
  {
   "cell_type": "code",
   "execution_count": 100,
   "id": "88bce448",
   "metadata": {},
   "outputs": [
    {
     "data": {
      "text/plain": [
       "<langgraph.graph.graph.Graph at 0x128db40d650>"
      ]
     },
     "execution_count": 100,
     "metadata": {},
     "output_type": "execute_result"
    }
   ],
   "source": [
    "workflow1.add_edge(\"Func2\",\"Func3\")"
   ]
  },
  {
   "cell_type": "code",
   "execution_count": null,
   "id": "93de2aa4",
   "metadata": {},
   "outputs": [],
   "source": [
    "workflow1.set_entry_point(\"Func1\")"
   ]
  },
  {
   "cell_type": "code",
   "execution_count": 104,
   "id": "6a1f5ea2",
   "metadata": {},
   "outputs": [
    {
     "data": {
      "text/plain": [
       "<langgraph.graph.graph.Graph at 0x128db40d650>"
      ]
     },
     "execution_count": 104,
     "metadata": {},
     "output_type": "execute_result"
    }
   ],
   "source": [
    "workflow1.set_finish_point(\"Func3\")"
   ]
  },
  {
   "cell_type": "code",
   "execution_count": 105,
   "id": "781372bb",
   "metadata": {},
   "outputs": [
    {
     "data": {
      "image/png": "[encoded data removed]",
      "text/plain": [
       "<langgraph.graph.graph.CompiledGraph object at 0x00000128DB39EF90>"
      ]
     },
     "execution_count": 105,
     "metadata": {},
     "output_type": "execute_result"
    }
   ],
   "source": [
    "workflow1.compile()"
   ]
  },
  {
   "cell_type": "code",
   "execution_count": 106,
   "id": "71380942",
   "metadata": {},
   "outputs": [],
   "source": [
    "app = workflow1.compile()"
   ]
  },
  {
   "cell_type": "code",
   "execution_count": 107,
   "id": "fc80168c",
   "metadata": {},
   "outputs": [],
   "source": [
    "from IPython.display import Image, display"
   ]
  },
  {
   "cell_type": "code",
   "execution_count": 108,
   "id": "d85d1ed6",
   "metadata": {},
   "outputs": [
    {
     "data": {
      "image/png": "[encoded data removed]",
      "text/plain": [
       "<IPython.core.display.Image object>"
      ]
     },
     "metadata": {},
     "output_type": "display_data"
    }
   ],
   "source": [
    "display(Image(app.get_graph().draw_mermaid_png()))"
   ]
  },
  {
   "cell_type": "code",
   "execution_count": 109,
   "id": "1459e2ff",
   "metadata": {},
   "outputs": [],
   "source": [
    "def llm(input):\n",
    "    pass"
   ]
  },
  {
   "cell_type": "code",
   "execution_count": 110,
   "id": "f049e3a9",
   "metadata": {},
   "outputs": [],
   "source": [
    "def token_counter(input):\n",
    "    pass"
   ]
  },
  {
   "cell_type": "code",
   "execution_count": 111,
   "id": "3e28bc92",
   "metadata": {},
   "outputs": [],
   "source": [
    "workflow = Graph()"
   ]
  },
  {
   "cell_type": "code",
   "execution_count": 112,
   "id": "ad956457",
   "metadata": {},
   "outputs": [
    {
     "data": {
      "text/plain": [
       "<langgraph.graph.graph.Graph at 0x128db7bc210>"
      ]
     },
     "execution_count": 112,
     "metadata": {},
     "output_type": "execute_result"
    }
   ],
   "source": [
    "workflow.add_node(\"My_LLM\",llm)\n",
    "workflow.add_node(\"LLM_Output_Token_Counter\",token_counter)"
   ]
  },
  {
   "cell_type": "code",
   "execution_count": 113,
   "id": "766fece9",
   "metadata": {},
   "outputs": [
    {
     "data": {
      "text/plain": [
       "<langgraph.graph.graph.Graph at 0x128db7bc210>"
      ]
     },
     "execution_count": 113,
     "metadata": {},
     "output_type": "execute_result"
    }
   ],
   "source": [
    "workflow.add_edge(\"My_LLM\", \"LLM_Output_Token_Counter\")"
   ]
  },
  {
   "cell_type": "code",
   "execution_count": 114,
   "id": "d65072f7",
   "metadata": {},
   "outputs": [
    {
     "data": {
      "text/plain": [
       "<langgraph.graph.graph.Graph at 0x128db7bc210>"
      ]
     },
     "execution_count": 114,
     "metadata": {},
     "output_type": "execute_result"
    }
   ],
   "source": [
    "workflow.set_entry_point(\"My_LLM\")\n",
    "workflow.set_finish_point(\"LLM_Output_Token_Counter\")"
   ]
  },
  {
   "cell_type": "code",
   "execution_count": 116,
   "id": "5f2edd96",
   "metadata": {},
   "outputs": [],
   "source": [
    "app1=workflow.compile()"
   ]
  },
  {
   "cell_type": "code",
   "execution_count": 117,
   "id": "e3ac95fc",
   "metadata": {},
   "outputs": [
    {
     "data": {
      "image/png": "[encoded data removed]",
      "text/plain": [
       "<langgraph.graph.graph.CompiledGraph object at 0x00000128DB25FE10>"
      ]
     },
     "execution_count": 117,
     "metadata": {},
     "output_type": "execute_result"
    }
   ],
   "source": [
    "workflow.compile()"
   ]
  }
 ],
 "metadata": {
  "kernelspec": {
   "display_name": ".venv",
   "language": "python",
   "name": "python3"
  },
  "language_info": {
   "codemirror_mode": {
    "name": "ipython",
    "version": 3
   },
   "file_extension": ".py",
   "mimetype": "text/x-python",
   "name": "python",
   "nbconvert_exporter": "python",
   "pygments_lexer": "ipython3",
   "version": "3.11.4"
  }
 },
 "nbformat": 4,
 "nbformat_minor": 5
}
