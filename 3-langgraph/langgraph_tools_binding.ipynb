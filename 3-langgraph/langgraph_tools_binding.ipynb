{
 "cells": [
  {
   "cell_type": "code",
   "execution_count": 1,
   "id": "28a8d5d4",
   "metadata": {},
   "outputs": [],
   "source": [
    "import os\n",
    "from dotenv import load_dotenv\n",
    "load_dotenv()\n",
    "\n",
    "os.environ[\"GROQ_API_KEY\"]=os.getenv(\"GROQ_API_KEY\")"
   ]
  },
  {
   "cell_type": "code",
   "execution_count": 2,
   "id": "3634e8fc",
   "metadata": {},
   "outputs": [
    {
     "data": {
      "text/plain": [
       "\"<think>\\nOkay, so I need to figure out the length of the Great Wall of China. I remember hearing that it's really long, but I'm not exactly sure how long. I think it's somewhere in the thousands of miles, but I'm not certain. Let me try to break this down.\\n\\nFirst, I know the Great Wall is a series of fortifications built across several Chinese dynasties. It wasn't built all at once, so maybe that's why the length can vary. I've heard different numbers before, like 13,000 miles or 21,000 kilometers. But I'm not sure which one is accurate.\\n\\nI should consider the sources of this information. Maybe some people measure it differently. For example, if you include all the branches and sections, it might add up to a longer distance. But if you just take the main wall, it might be shorter. I think the Chinese government did a survey a while back, so that might be a reliable source.\\n\\nWait, I think they used advanced technology like GPS and satellites to measure it more accurately. That would make sense because older measurements might have been estimates. So, if the official measurement is around 13,171 miles, that's probably the most accurate number now.\\n\\nBut I also remember hearing that some sections are overlapping or that the wall isn't one continuous structure. It has different parts built in different times, so maybe that's why the total length adds up to more than just a straight line. Each section was built for specific purposes, like protecting certain areas or controlling trade routes.\\n\\nI wonder how they actually measured it. Did they walk along the wall and mark each segment? Or did they use aerial photography? Using satellites would probably give a more precise measurement because they can cover more ground without missing sections.\\n\\nAlso, the wall's condition might affect the measurement. Some parts are well-preserved, while others are ruins or even gone. So, when measuring, do they count only the parts that still exist, or do they include the entire original structure? I think the survey probably included all the existing sections, whether they're in good shape or not.\\n\\nAnother thing to consider is the historical context. The wall was built over centuries, so each dynasty added their own parts. This could mean that the wall isn't just one long structure but a collection of separate walls built at different times. Therefore, the total length is the sum of all these separate walls.\\n\\nI should also think about units. The user asked for the length, and I know that 13,171 miles is the figure I've heard before. Converting that to kilometers, it's about 21,196 km. That seems really long, but considering the wall spans across mountains and plains, it makes sense.\\n\\nI'm trying to remember if there are any other famous walls that are similarly long. I think the Great Wall of China is the longest man-made structure, so it's longer than other walls like Hadrian's Wall or the Berlin Wall. That puts it into perspective.\\n\\nIn summary, the Great Wall of China's length is approximately 13,171 miles or 21,196 kilometers. This measurement was determined by a comprehensive survey that accounted for all the sections, including the branches and overlapping parts. It's important to note that the wall isn't a single, continuous structure but a series of interconnected fortifications built over many centuries.\\n</think>\\n\\nThe Great Wall of China is approximately 13,171 miles (21,196 kilometers) long. This measurement was determined by a comprehensive survey that included all sections, branches, and overlapping parts. The wall is not a single, continuous structure but a series of fortifications built over centuries, contributing to its extensive total length.\""
      ]
     },
     "execution_count": 2,
     "metadata": {},
     "output_type": "execute_result"
    }
   ],
   "source": [
    "from langchain_groq import ChatGroq\n",
    "llm = ChatGroq(\n",
    "    model=\"deepseek-r1-distill-llama-70b\",\n",
    "    temperature=0\n",
    ")\n",
    "response=llm.invoke(\"what is length of wall of china?\")\n",
    "\n",
    "response.content"
   ]
  },
  {
   "cell_type": "code",
   "execution_count": 3,
   "id": "06426c83",
   "metadata": {},
   "outputs": [],
   "source": [
    "from langchain.tools import tool\n",
    "\n",
    "@tool\n",
    "def multiply(a: int, b: int) -> int:\n",
    "    \"\"\"\n",
    "    Multiply two integers.\n",
    "\n",
    "    Args:\n",
    "        a (int): The first integer.\n",
    "        b (int): The second integer.\n",
    "\n",
    "    Returns:\n",
    "        int: The product of a and b.\n",
    "    \"\"\"\n",
    "    return a * b\n",
    "\n",
    "@tool\n",
    "def add(a: int, b: int) -> int:\n",
    "    \"\"\"\n",
    "    Add two integers.\n",
    "\n",
    "    Args:\n",
    "        a (int): The first integer.\n",
    "        b (int): The second integer.\n",
    "\n",
    "    Returns:\n",
    "        int: The sum of a and b.\n",
    "    \"\"\"\n",
    "    return a + b\n",
    "\n",
    "@tool\n",
    "def divide(a: int, b: int) -> float:\n",
    "    \"\"\"\n",
    "    Divide two integers.\n",
    "\n",
    "    Args:\n",
    "        a (int): The numerator.\n",
    "        b (int): The denominator (must not be 0).\n",
    "\n",
    "    Returns:\n",
    "        float: The result of division.\n",
    "    \"\"\"\n",
    "    if b == 0:\n",
    "        raise ValueError(\"Denominator cannot be zero.\")\n",
    "    return a / b"
   ]
  },
  {
   "cell_type": "code",
   "execution_count": 4,
   "id": "419a526a",
   "metadata": {},
   "outputs": [],
   "source": [
    "# importing in-built tool\n",
    "from langchain_community.tools import DuckDuckGoSearchRun"
   ]
  },
  {
   "cell_type": "code",
   "execution_count": 5,
   "id": "f3239db3",
   "metadata": {},
   "outputs": [
    {
     "data": {
      "text/plain": [
       "'iPhone 17: New slimmer \\'iPhone 17 Air\\' model. ... Various rumors suggest that the new iPhones could benefit from the following updates: Design and display. 2025 could bring one of the biggest updates to the iPhone\\'s design that we\\'ve seen since the 2017 iPhone X, with Apple rumored to be planning for an all-new iPhone 17 \"Air\" that has a much thinner ... Apple has released the latest versions of its iPhone and iPad software: iOS 17.6 and iPadOS 17.6 are now available for download on your device. Here\\'s what\\'s new in these latest OS updates. Apple\\'s iOS 17.7 upgrade was released alongside iOS 18, including many of the same security fixes.The iOS 17.7 update is for iPhone users who want to wait before upgrading to the latest Apple ... iOS 17.6 Features. Apple\\'s milestone updates (iOS x.x) typically bring new features, enhancements, security patches, and bug fixes to iPhone users, but iOS 17.6\\'s feature set is on the lighter ...'"
      ]
     },
     "execution_count": 5,
     "metadata": {},
     "output_type": "execute_result"
    }
   ],
   "source": [
    "search=DuckDuckGoSearchRun()\n",
    "search.invoke(\"what is the latest update on iphone 17\")"
   ]
  },
  {
   "cell_type": "code",
   "execution_count": 6,
   "id": "00fce02e",
   "metadata": {},
   "outputs": [],
   "source": [
    "tools = [multiply, add, divide, search]"
   ]
  },
  {
   "cell_type": "code",
   "execution_count": 7,
   "id": "ae0db66c",
   "metadata": {},
   "outputs": [],
   "source": [
    "# binding tools with LLM\n",
    "llm_with_tools=llm.bind_tools(tools)"
   ]
  },
  {
   "cell_type": "code",
   "execution_count": 8,
   "id": "626ed928",
   "metadata": {},
   "outputs": [],
   "source": [
    "response= llm_with_tools.invoke(\"hi\")"
   ]
  },
  {
   "cell_type": "code",
   "execution_count": 9,
   "id": "e6a7d4ab",
   "metadata": {},
   "outputs": [
    {
     "data": {
      "text/plain": [
       "'Hello! How can I assist you today?'"
      ]
     },
     "execution_count": 9,
     "metadata": {},
     "output_type": "execute_result"
    }
   ],
   "source": [
    "response.content"
   ]
  },
  {
   "cell_type": "code",
   "execution_count": 10,
   "id": "2ad89bf1",
   "metadata": {},
   "outputs": [
    {
     "data": {
      "text/plain": [
       "[]"
      ]
     },
     "execution_count": 10,
     "metadata": {},
     "output_type": "execute_result"
    }
   ],
   "source": [
    "response.tool_calls"
   ]
  },
  {
   "cell_type": "code",
   "execution_count": 11,
   "id": "79a90bb8",
   "metadata": {},
   "outputs": [],
   "source": [
    "response= llm_with_tools.invoke(\"what is 2 + 2\")"
   ]
  },
  {
   "cell_type": "code",
   "execution_count": 12,
   "id": "e00b558e",
   "metadata": {},
   "outputs": [
    {
     "data": {
      "text/plain": [
       "''"
      ]
     },
     "execution_count": 12,
     "metadata": {},
     "output_type": "execute_result"
    }
   ],
   "source": [
    "response.content"
   ]
  },
  {
   "cell_type": "code",
   "execution_count": 13,
   "id": "5f96e8c7",
   "metadata": {},
   "outputs": [
    {
     "data": {
      "text/plain": [
       "[{'name': 'add',\n",
       "  'args': {'a': 2, 'b': 2},\n",
       "  'id': 'jad9hbmtj',\n",
       "  'type': 'tool_call'}]"
      ]
     },
     "execution_count": 13,
     "metadata": {},
     "output_type": "execute_result"
    }
   ],
   "source": [
    "response.tool_calls"
   ]
  },
  {
   "cell_type": "code",
   "execution_count": 14,
   "id": "cb37a072",
   "metadata": {},
   "outputs": [
    {
     "data": {
      "text/plain": [
       "''"
      ]
     },
     "execution_count": 14,
     "metadata": {},
     "output_type": "execute_result"
    }
   ],
   "source": [
    "response= llm_with_tools.invoke(\"what is 10/2\")\n",
    "response.content"
   ]
  },
  {
   "cell_type": "code",
   "execution_count": 15,
   "id": "ee33d98c",
   "metadata": {},
   "outputs": [
    {
     "data": {
      "text/plain": [
       "[{'name': 'divide',\n",
       "  'args': {'a': 10, 'b': 2},\n",
       "  'id': 'm5253348s',\n",
       "  'type': 'tool_call'}]"
      ]
     },
     "execution_count": 15,
     "metadata": {},
     "output_type": "execute_result"
    }
   ],
   "source": [
    "response.tool_calls"
   ]
  },
  {
   "cell_type": "code",
   "execution_count": 16,
   "id": "7f115c60",
   "metadata": {},
   "outputs": [
    {
     "data": {
      "text/plain": [
       "''"
      ]
     },
     "execution_count": 16,
     "metadata": {},
     "output_type": "execute_result"
    }
   ],
   "source": [
    "response= llm_with_tools.invoke(\"what is the current age of the TATA Group\")\n",
    "response.content"
   ]
  },
  {
   "cell_type": "code",
   "execution_count": 17,
   "id": "1fcfb926",
   "metadata": {},
   "outputs": [
    {
     "data": {
      "text/plain": [
       "[{'name': 'duckduckgo_search',\n",
       "  'args': {'query': 'TATA Group age'},\n",
       "  'id': 'gcbpm7qz5',\n",
       "  'type': 'tool_call'}]"
      ]
     },
     "execution_count": 17,
     "metadata": {},
     "output_type": "execute_result"
    }
   ],
   "source": [
    "response.tool_calls"
   ]
  },
  {
   "cell_type": "code",
   "execution_count": 18,
   "id": "11ddba26",
   "metadata": {},
   "outputs": [],
   "source": [
    "from langchain_core.messages import HumanMessage, SystemMessage\n",
    "from langgraph.graph import MessagesState, StateGraph, END, START"
   ]
  },
  {
   "cell_type": "code",
   "execution_count": 19,
   "id": "e213f63a",
   "metadata": {},
   "outputs": [],
   "source": [
    "builder=StateGraph(MessagesState)"
   ]
  },
  {
   "cell_type": "code",
   "execution_count": 20,
   "id": "c9d22ed7",
   "metadata": {},
   "outputs": [],
   "source": [
    "SYSTEM_PROMPT=\"You are a helpful assistant tasked with using and performing arithmetic operation on a set of inputs.\""
   ]
  },
  {
   "cell_type": "code",
   "execution_count": 21,
   "id": "91e48193",
   "metadata": {},
   "outputs": [],
   "source": [
    "def function_1(state:MessagesState):\n",
    "    user_question = state['messages']\n",
    "    input_question = [SYSTEM_PROMPT] + user_question\n",
    "\n",
    "    response = llm_with_tools.invoke(input_question)\n",
    "\n",
    "    return {\n",
    "        \"messages\":[response]\n",
    "    }"
   ]
  },
  {
   "cell_type": "code",
   "execution_count": 22,
   "id": "4e033226",
   "metadata": {},
   "outputs": [
    {
     "data": {
      "text/plain": [
       "{'messages': [AIMessage(content='', additional_kwargs={'tool_calls': [{'id': '948wav3nn', 'function': {'arguments': '{\"a\":73,\"b\":2}', 'name': 'multiply'}, 'type': 'function'}]}, response_metadata={'token_usage': {'completion_tokens': 333, 'prompt_tokens': 421, 'total_tokens': 754, 'completion_time': 1.210909091, 'prompt_time': 0.027023725, 'queue_time': 0.057620895000000005, 'total_time': 1.237932816}, 'model_name': 'deepseek-r1-distill-llama-70b', 'system_fingerprint': 'fp_1bbe7845ec', 'finish_reason': 'tool_calls', 'logprobs': None}, id='run--b3789e39-3f02-495a-bdcb-56330024d363-0', tool_calls=[{'name': 'multiply', 'args': {'a': 73, 'b': 2}, 'id': '948wav3nn', 'type': 'tool_call'}], usage_metadata={'input_tokens': 421, 'output_tokens': 333, 'total_tokens': 754})]}"
      ]
     },
     "execution_count": 22,
     "metadata": {},
     "output_type": "execute_result"
    }
   ],
   "source": [
    "#test call for function_1\n",
    "state={\"messages\":[\"what is the 2 times of Narendra Modi's age\"]}\n",
    "function_1(state)"
   ]
  },
  {
   "cell_type": "code",
   "execution_count": 23,
   "id": "ed4e5e08",
   "metadata": {},
   "outputs": [
    {
     "data": {
      "text/plain": [
       "<langgraph.graph.state.StateGraph at 0x215c33d52d0>"
      ]
     },
     "execution_count": 23,
     "metadata": {},
     "output_type": "execute_result"
    }
   ],
   "source": [
    "builder.add_node(\"llm_decision_step\", function_1)"
   ]
  },
  {
   "cell_type": "code",
   "execution_count": 24,
   "id": "353ce381",
   "metadata": {},
   "outputs": [
    {
     "data": {
      "text/plain": [
       "[StructuredTool(name='multiply', description='Multiply two integers.\\n\\nArgs:\\n    a (int): The first integer.\\n    b (int): The second integer.\\n\\nReturns:\\n    int: The product of a and b.', args_schema=<class 'langchain_core.utils.pydantic.multiply'>, func=<function multiply at 0x00000215C0C68D60>),\n",
       " StructuredTool(name='add', description='Add two integers.\\n\\nArgs:\\n    a (int): The first integer.\\n    b (int): The second integer.\\n\\nReturns:\\n    int: The sum of a and b.', args_schema=<class 'langchain_core.utils.pydantic.add'>, func=<function add at 0x00000215C22A5300>),\n",
       " StructuredTool(name='divide', description='Divide two integers.\\n\\nArgs:\\n    a (int): The numerator.\\n    b (int): The denominator (must not be 0).\\n\\nReturns:\\n    float: The result of division.', args_schema=<class 'langchain_core.utils.pydantic.divide'>, func=<function divide at 0x00000215C22A6AC0>),\n",
       " DuckDuckGoSearchRun(api_wrapper=DuckDuckGoSearchAPIWrapper(region='wt-wt', safesearch='moderate', time='y', max_results=5, backend='auto', source='text'))]"
      ]
     },
     "execution_count": 24,
     "metadata": {},
     "output_type": "execute_result"
    }
   ],
   "source": [
    "tools"
   ]
  },
  {
   "cell_type": "code",
   "execution_count": 25,
   "id": "2a9ee7b9",
   "metadata": {},
   "outputs": [
    {
     "data": {
      "text/plain": [
       "<langgraph.graph.state.StateGraph at 0x215c33d52d0>"
      ]
     },
     "execution_count": 25,
     "metadata": {},
     "output_type": "execute_result"
    }
   ],
   "source": [
    "from langgraph.prebuilt import ToolNode\n",
    "builder.add_node(\"tools\", ToolNode(tools))"
   ]
  },
  {
   "cell_type": "code",
   "execution_count": 26,
   "id": "0a1fdd8a",
   "metadata": {},
   "outputs": [
    {
     "data": {
      "text/plain": [
       "<langgraph.graph.state.StateGraph at 0x215c33d52d0>"
      ]
     },
     "execution_count": 26,
     "metadata": {},
     "output_type": "execute_result"
    }
   ],
   "source": [
    "builder.add_edge(START, \"llm_decision_step\")"
   ]
  },
  {
   "cell_type": "code",
   "execution_count": 27,
   "id": "a6e26bcd",
   "metadata": {},
   "outputs": [
    {
     "data": {
      "text/plain": [
       "<langgraph.graph.state.StateGraph at 0x215c33d52d0>"
      ]
     },
     "execution_count": 27,
     "metadata": {},
     "output_type": "execute_result"
    }
   ],
   "source": [
    "from langgraph.prebuilt import tools_condition\n",
    "builder.add_conditional_edges(\n",
    "    \"llm_decision_step\",\n",
    "    tools_condition\n",
    ")"
   ]
  },
  {
   "cell_type": "code",
   "execution_count": 28,
   "id": "f8f276ab",
   "metadata": {},
   "outputs": [
    {
     "data": {
      "text/plain": [
       "<langgraph.graph.state.StateGraph at 0x215c33d52d0>"
      ]
     },
     "execution_count": 28,
     "metadata": {},
     "output_type": "execute_result"
    }
   ],
   "source": [
    "builder.add_edge(\"tools\",\"llm_decision_step\")"
   ]
  },
  {
   "cell_type": "code",
   "execution_count": 29,
   "id": "22a2b1c7",
   "metadata": {},
   "outputs": [
    {
     "data": {
      "image/png": "[encoded data removed]",
      "text/plain": [
       "<langgraph.graph.state.CompiledStateGraph object at 0x00000215C3592A90>"
      ]
     },
     "execution_count": 29,
     "metadata": {},
     "output_type": "execute_result"
    }
   ],
   "source": [
    "builder.compile()"
   ]
  },
  {
   "cell_type": "code",
   "execution_count": 30,
   "id": "c1743666",
   "metadata": {},
   "outputs": [],
   "source": [
    "react_graph=builder.compile()"
   ]
  },
  {
   "cell_type": "code",
   "execution_count": 31,
   "id": "ae2a0bdd",
   "metadata": {},
   "outputs": [
    {
     "data": {
      "image/png": "[encoded data removed]",
      "text/plain": [
       "<IPython.core.display.Image object>"
      ]
     },
     "metadata": {},
     "output_type": "display_data"
    }
   ],
   "source": [
    "from IPython.display import Image, display\n",
    "display(Image(react_graph.get_graph().draw_mermaid_png()))"
   ]
  },
  {
   "cell_type": "code",
   "execution_count": 32,
   "id": "9469d18f",
   "metadata": {},
   "outputs": [
    {
     "data": {
      "text/plain": [
       "{'messages': [HumanMessage(content=\"what is the 2 times of Narendra Modi's age\", additional_kwargs={}, response_metadata={}, id='a589ab0b-fe7f-432a-99fa-2e23bc038ce4'),\n",
       "  AIMessage(content='', additional_kwargs={'tool_calls': [{'id': 'f06fbjp8x', 'function': {'arguments': '{\"a\":73,\"b\":2}', 'name': 'multiply'}, 'type': 'function'}]}, response_metadata={'token_usage': {'completion_tokens': 275, 'prompt_tokens': 421, 'total_tokens': 696, 'completion_time': 1.055417845, 'prompt_time': 0.027061981, 'queue_time': 0.057750549, 'total_time': 1.082479826}, 'model_name': 'deepseek-r1-distill-llama-70b', 'system_fingerprint': 'fp_1bbe7845ec', 'finish_reason': 'tool_calls', 'logprobs': None}, id='run--2d3fb028-a327-4a3e-9a7b-f8f82da8150c-0', tool_calls=[{'name': 'multiply', 'args': {'a': 73, 'b': 2}, 'id': 'f06fbjp8x', 'type': 'tool_call'}], usage_metadata={'input_tokens': 421, 'output_tokens': 275, 'total_tokens': 696}),\n",
       "  ToolMessage(content='146', name='multiply', id='a86f03ed-96fe-4d24-a137-74db134a0fcf', tool_call_id='f06fbjp8x'),\n",
       "  AIMessage(content='', additional_kwargs={'tool_calls': [{'id': '2tjshe8qr', 'function': {'arguments': '{\"a\":73,\"b\":2}', 'name': 'multiply'}, 'type': 'function'}]}, response_metadata={'token_usage': {'completion_tokens': 273, 'prompt_tokens': 474, 'total_tokens': 747, 'completion_time': 1.014938957, 'prompt_time': 0.029980707, 'queue_time': 0.05757242300000001, 'total_time': 1.044919664}, 'model_name': 'deepseek-r1-distill-llama-70b', 'system_fingerprint': 'fp_1bbe7845ec', 'finish_reason': 'tool_calls', 'logprobs': None}, id='run--c6697f49-79e6-4143-84d0-282990360829-0', tool_calls=[{'name': 'multiply', 'args': {'a': 73, 'b': 2}, 'id': '2tjshe8qr', 'type': 'tool_call'}], usage_metadata={'input_tokens': 474, 'output_tokens': 273, 'total_tokens': 747}),\n",
       "  ToolMessage(content='146', name='multiply', id='d23e5f5f-cba7-4d7a-aa24-7ae2063c65d1', tool_call_id='2tjshe8qr'),\n",
       "  AIMessage(content='', additional_kwargs={'tool_calls': [{'id': '99w63rngg', 'function': {'arguments': '{\"a\":73,\"b\":2}', 'name': 'multiply'}, 'type': 'function'}]}, response_metadata={'token_usage': {'completion_tokens': 295, 'prompt_tokens': 527, 'total_tokens': 822, 'completion_time': 1.109363952, 'prompt_time': 0.041843332, 'queue_time': 0.053426948, 'total_time': 1.151207284}, 'model_name': 'deepseek-r1-distill-llama-70b', 'system_fingerprint': 'fp_1bbe7845ec', 'finish_reason': 'tool_calls', 'logprobs': None}, id='run--89eaafb8-1872-4ddd-a3d4-62cd1d6e906a-0', tool_calls=[{'name': 'multiply', 'args': {'a': 73, 'b': 2}, 'id': '99w63rngg', 'type': 'tool_call'}], usage_metadata={'input_tokens': 527, 'output_tokens': 295, 'total_tokens': 822}),\n",
       "  ToolMessage(content='146', name='multiply', id='46e87b0d-deb8-48eb-84f7-4049430bd48a', tool_call_id='99w63rngg'),\n",
       "  AIMessage(content='', additional_kwargs={'tool_calls': [{'id': 'qxz66f115', 'function': {'arguments': '{\"a\":73,\"b\":2}', 'name': 'multiply'}, 'type': 'function'}]}, response_metadata={'token_usage': {'completion_tokens': 256, 'prompt_tokens': 579, 'total_tokens': 835, 'completion_time': 1.200462497, 'prompt_time': 0.037048087, 'queue_time': 0.056952513, 'total_time': 1.237510584}, 'model_name': 'deepseek-r1-distill-llama-70b', 'system_fingerprint': 'fp_1bbe7845ec', 'finish_reason': 'tool_calls', 'logprobs': None}, id='run--888d88ae-bc01-4b9b-a514-cdd242643f93-0', tool_calls=[{'name': 'multiply', 'args': {'a': 73, 'b': 2}, 'id': 'qxz66f115', 'type': 'tool_call'}], usage_metadata={'input_tokens': 579, 'output_tokens': 256, 'total_tokens': 835}),\n",
       "  ToolMessage(content='146', name='multiply', id='9e6f00bd-e1cd-4c55-a654-e0233f986697', tool_call_id='qxz66f115'),\n",
       "  AIMessage(content='', additional_kwargs={'tool_calls': [{'id': 'aq4g5r8qr', 'function': {'arguments': '{\"a\":73,\"b\":2}', 'name': 'multiply'}, 'type': 'function'}]}, response_metadata={'token_usage': {'completion_tokens': 212, 'prompt_tokens': 631, 'total_tokens': 843, 'completion_time': 0.770909091, 'prompt_time': 0.048167494, 'queue_time': 0.054532527000000004, 'total_time': 0.819076585}, 'model_name': 'deepseek-r1-distill-llama-70b', 'system_fingerprint': 'fp_1bbe7845ec', 'finish_reason': 'tool_calls', 'logprobs': None}, id='run--cf7a806c-e991-49d7-9cd0-6ce08fb56f93-0', tool_calls=[{'name': 'multiply', 'args': {'a': 73, 'b': 2}, 'id': 'aq4g5r8qr', 'type': 'tool_call'}], usage_metadata={'input_tokens': 631, 'output_tokens': 212, 'total_tokens': 843}),\n",
       "  ToolMessage(content='146', name='multiply', id='8bed479d-18aa-40c1-908a-54523ad8633c', tool_call_id='aq4g5r8qr'),\n",
       "  AIMessage(content=\"The 2 times of Narendra Modi's age is 146.\", additional_kwargs={}, response_metadata={'token_usage': {'completion_tokens': 443, 'prompt_tokens': 685, 'total_tokens': 1128, 'completion_time': 1.8569973960000001, 'prompt_time': 0.050852763, 'queue_time': 0.053910567, 'total_time': 1.907850159}, 'model_name': 'deepseek-r1-distill-llama-70b', 'system_fingerprint': 'fp_1bbe7845ec', 'finish_reason': 'stop', 'logprobs': None}, id='run--f5f9565a-00b6-457b-bcce-d0718f7c066c-0', usage_metadata={'input_tokens': 685, 'output_tokens': 443, 'total_tokens': 1128})]}"
      ]
     },
     "execution_count": 32,
     "metadata": {},
     "output_type": "execute_result"
    }
   ],
   "source": [
    "message={\"messages\":[\"what is the 2 times of Narendra Modi's age\"]}\n",
    "react_graph.invoke(message)"
   ]
  },
  {
   "cell_type": "code",
   "execution_count": 33,
   "id": "c8970121",
   "metadata": {},
   "outputs": [
    {
     "data": {
      "text/plain": [
       "{'messages': [HumanMessage(content='what is the spped of light in m/s and multiply it by 10', additional_kwargs={}, response_metadata={}, id='6a3086d2-cda7-49fb-8efd-52d7c4d7214d'),\n",
       "  AIMessage(content='', additional_kwargs={'tool_calls': [{'id': 'm773fjgnd', 'function': {'arguments': '{\"a\":299792458,\"b\":10}', 'name': 'multiply'}, 'type': 'function'}]}, response_metadata={'token_usage': {'completion_tokens': 254, 'prompt_tokens': 426, 'total_tokens': 680, 'completion_time': 0.962713106, 'prompt_time': 0.027211564, 'queue_time': 0.067167896, 'total_time': 0.98992467}, 'model_name': 'deepseek-r1-distill-llama-70b', 'system_fingerprint': 'fp_1bbe7845ec', 'finish_reason': 'tool_calls', 'logprobs': None}, id='run--bae2dd1d-f0ef-4023-859a-d236c4db53b8-0', tool_calls=[{'name': 'multiply', 'args': {'a': 299792458, 'b': 10}, 'id': 'm773fjgnd', 'type': 'tool_call'}], usage_metadata={'input_tokens': 426, 'output_tokens': 254, 'total_tokens': 680}),\n",
       "  ToolMessage(content='2997924580', name='multiply', id='72608832-412c-46f7-88cb-25cd1627beb3', tool_call_id='m773fjgnd'),\n",
       "  AIMessage(content='', additional_kwargs={'tool_calls': [{'id': '9tn99rwz4', 'function': {'arguments': '{\"a\":299792458,\"b\":10}', 'name': 'multiply'}, 'type': 'function'}]}, response_metadata={'token_usage': {'completion_tokens': 274, 'prompt_tokens': 484, 'total_tokens': 758, 'completion_time': 1.142743466, 'prompt_time': 0.038031536, 'queue_time': 0.053578655999999995, 'total_time': 1.180775002}, 'model_name': 'deepseek-r1-distill-llama-70b', 'system_fingerprint': 'fp_1bbe7845ec', 'finish_reason': 'tool_calls', 'logprobs': None}, id='run--11aa34b1-672c-487e-b631-a50a9681434f-0', tool_calls=[{'name': 'multiply', 'args': {'a': 299792458, 'b': 10}, 'id': '9tn99rwz4', 'type': 'tool_call'}], usage_metadata={'input_tokens': 484, 'output_tokens': 274, 'total_tokens': 758}),\n",
       "  ToolMessage(content='2997924580', name='multiply', id='6f4b3582-d282-45a2-8e27-b3cfe659fefe', tool_call_id='9tn99rwz4'),\n",
       "  AIMessage(content='The speed of light is approximately 299,792,458 meters per second. When multiplied by 10, the result is 2,997,924,580 meters per second.\\n\\n**Step-by-Step Explanation:**\\n\\n1. **Identify the Speed of Light:** The speed of light in a vacuum is a constant value, approximately 299,792,458 meters per second.\\n\\n2. **Multiply by 10:** To find ten times the speed of light, multiply the speed by 10.\\n   \\\\[\\n   299,792,458 \\\\, \\\\text{m/s} \\\\times 10 = 2,997,924,580 \\\\, \\\\text{m/s}\\n   \\\\]\\n\\n3. **Present the Result:** The result of multiplying the speed of light by 10 is 2,997,924,580 meters per second.\\n\\n**Answer:** 2,997,924,580 meters per second.', additional_kwargs={}, response_metadata={'token_usage': {'completion_tokens': 453, 'prompt_tokens': 542, 'total_tokens': 995, 'completion_time': 1.647272727, 'prompt_time': 0.034862735, 'queue_time': 0.057182066, 'total_time': 1.682135462}, 'model_name': 'deepseek-r1-distill-llama-70b', 'system_fingerprint': 'fp_1bbe7845ec', 'finish_reason': 'stop', 'logprobs': None}, id='run--e118bd97-31eb-4bbc-bbf3-29f469b96bd9-0', usage_metadata={'input_tokens': 542, 'output_tokens': 453, 'total_tokens': 995})]}"
      ]
     },
     "execution_count": 33,
     "metadata": {},
     "output_type": "execute_result"
    }
   ],
   "source": [
    "message={\"messages\":[\"what is the spped of light in m/s and multiply it by 10\"]}\n",
    "react_graph.invoke(message)"
   ]
  },
  {
   "cell_type": "code",
   "execution_count": 34,
   "id": "62236b2b",
   "metadata": {},
   "outputs": [
    {
     "data": {
      "text/plain": [
       "{'messages': [HumanMessage(content='What is the net worth of Elon Musk?', additional_kwargs={}, response_metadata={}, id='3057ccad-fbfd-4374-b1e0-e7656df5fb54'),\n",
       "  AIMessage(content='', additional_kwargs={'tool_calls': [{'id': 'v4yw8nt1v', 'function': {'arguments': '{\"query\":\"Elon Musk net worth 2023\"}', 'name': 'duckduckgo_search'}, 'type': 'function'}]}, response_metadata={'token_usage': {'completion_tokens': 203, 'prompt_tokens': 419, 'total_tokens': 622, 'completion_time': 0.807547693, 'prompt_time': 0.033358635, 'queue_time': 0.054172735, 'total_time': 0.840906328}, 'model_name': 'deepseek-r1-distill-llama-70b', 'system_fingerprint': 'fp_1bbe7845ec', 'finish_reason': 'tool_calls', 'logprobs': None}, id='run--eb3707c1-4ce9-46a8-895b-a27623b11c65-0', tool_calls=[{'name': 'duckduckgo_search', 'args': {'query': 'Elon Musk net worth 2023'}, 'id': 'v4yw8nt1v', 'type': 'tool_call'}], usage_metadata={'input_tokens': 419, 'output_tokens': 203, 'total_tokens': 622}),\n",
       "  ToolMessage(content=\"Elon Musk Net worth: $423 billion Source: Tesla, SpaceX, xAI, X Age: 53 Residence: Austin, Texas Citizenship: U.S. ... Musk became the world's richest person again on June 8, 2023 and held onto the number one spot for the remainder of 2023. He fell to No. 2 on January 31, 2024. Musk owns an estimated 54% of xAI, which he founded in 2023. Private investors valued the company at a reported $50 billion in November 2024. ... Elon Musk's net worth fell by the equivalent of ... Tesla shares fell after Elon Musk's public disagreement with the president. Musk's net worth, though still the world's highest, has fluctuated significantly, peaking at $400 billion in December 2024. View net worth over: Max 1 year 1 quarter ... He renamed the company X Corp. in April 2023. Musk was the largest financial backer of Donald Trump's presidential campaign during the 2024 election ... A look at Elon Musk's wealth in the wake of the $34 billion fall in his net worth. Previously, Elon Musk's net worth had greatly benefited from his support of the re-election campaign of President Trump. Even before Trump was inaugurated, Musk's net worth reached its peak of $486.4 billion on December 17, 2024, as per Bloomberg.. The recent growth in Musk's net worth was tied to his ...\", name='duckduckgo_search', id='41b12bd5-5c3c-4751-84ba-b5170ffd3092', tool_call_id='v4yw8nt1v'),\n",
       "  AIMessage(content=\"As of the latest available information, Elon Musk's net worth is approximately **$423 billion**. This figure has fluctuated significantly, peaking at **$486.4 billion** in December 2024 before experiencing a drop of **$34 billion**. These changes reflect the dynamic nature of his wealth, influenced by various factors including his business ventures and market dynamics.\", additional_kwargs={}, response_metadata={'token_usage': {'completion_tokens': 258, 'prompt_tokens': 784, 'total_tokens': 1042, 'completion_time': 0.938181818, 'prompt_time': 0.058439361, 'queue_time': 0.05484896799999999, 'total_time': 0.996621179}, 'model_name': 'deepseek-r1-distill-llama-70b', 'system_fingerprint': 'fp_1bbe7845ec', 'finish_reason': 'stop', 'logprobs': None}, id='run--67a7b07f-5f73-4bcd-a99c-9b99173e7d97-0', usage_metadata={'input_tokens': 784, 'output_tokens': 258, 'total_tokens': 1042})]}"
      ]
     },
     "execution_count": 34,
     "metadata": {},
     "output_type": "execute_result"
    }
   ],
   "source": [
    "message = [HumanMessage(content=\"What is the net worth of Elon Musk?\")]\n",
    "react_graph.invoke({\"messages\":message})"
   ]
  },
  {
   "cell_type": "code",
   "execution_count": 35,
   "id": "d9664e20",
   "metadata": {},
   "outputs": [],
   "source": [
    "message = [HumanMessage(content=\"What is the net worth of Elon Musk?\")]\n",
    "response= react_graph.invoke({\"messages\":message})"
   ]
  },
  {
   "cell_type": "code",
   "execution_count": 36,
   "id": "253765de",
   "metadata": {},
   "outputs": [
    {
     "data": {
      "text/plain": [
       "\"Elon Musk's net worth has seen significant fluctuations recently. As of the latest information, his net worth dropped by $34 billion in June 2023, making it the second-largest fall in wealth recorded. However, he regained the top spot as the world's richest person later that month and maintained it until January 31, 2024, when he fell to the second position. Musk's net worth is primarily derived from his stakes in companies like Tesla, SpaceX, and other ventures.\""
      ]
     },
     "execution_count": 36,
     "metadata": {},
     "output_type": "execute_result"
    }
   ],
   "source": [
    "response[\"messages\"][-1].content"
   ]
  },
  {
   "cell_type": "code",
   "execution_count": 37,
   "id": "05d4604d",
   "metadata": {},
   "outputs": [
    {
     "name": "stdout",
     "output_type": "stream",
     "text": [
      "================================\u001b[1m Human Message \u001b[0m=================================\n",
      "\n",
      "What is the net worth of Elon Musk?\n",
      "==================================\u001b[1m Ai Message \u001b[0m==================================\n",
      "Tool Calls:\n",
      "  duckduckgo_search (hr9aa40x7)\n",
      " Call ID: hr9aa40x7\n",
      "  Args:\n",
      "    query: Elon Musk net worth 2023\n",
      "=================================\u001b[1m Tool Message \u001b[0m=================================\n",
      "Name: duckduckgo_search\n",
      "\n",
      "Elon Musk's net worth has taken a hit amid the billionaire's heated exchanges on social media with President Donald Trump. On June 6, the Bloomberg Billionaires Index recorded a $34 billion fall in Musk's net worth, the second-largest fall in wealth. Musk became the world's richest person again on June 8, 2023 and held onto the number one spot for the remainder of 2023. He fell to No. 2 on January 31, 2024. What Happened: Tesla CEO Elon Musk is the world's richest person and gets the majority of his net worth from ownership stakes in the electric vehicle company, SpaceX, xAI and other ventures. Elon Musk's net worth fell by the equivalent of almost five times Trump's $5.5 billion net worth Thursday. Elon Musk's net worth soared by $33.5 billion after Tesla shares surged 22%, marking their biggest gain in over a decade. The automaker has reported its largest quarterly profit since summer 2023.\n",
      "==================================\u001b[1m Ai Message \u001b[0m==================================\n",
      "\n",
      "Elon Musk's net worth has seen significant fluctuations recently. As of the latest information, his net worth dropped by $34 billion in June 2023, making it the second-largest fall in wealth recorded. However, he regained the top spot as the world's richest person later that month and maintained it until January 31, 2024, when he fell to the second position. Musk's net worth is primarily derived from his stakes in companies like Tesla, SpaceX, and other ventures.\n"
     ]
    }
   ],
   "source": [
    "for m in response[\"messages\"]:\n",
    "    m.pretty_print()"
   ]
  },
  {
   "cell_type": "code",
   "execution_count": null,
   "id": "670e1d5e",
   "metadata": {},
   "outputs": [],
   "source": [
    "\n"
   ]
  }
 ],
 "metadata": {
  "kernelspec": {
   "display_name": ".venv",
   "language": "python",
   "name": "python3"
  },
  "language_info": {
   "codemirror_mode": {
    "name": "ipython",
    "version": 3
   },
   "file_extension": ".py",
   "mimetype": "text/x-python",
   "name": "python",
   "nbconvert_exporter": "python",
   "pygments_lexer": "ipython3",
   "version": "3.11.4"
  }
 },
 "nbformat": 4,
 "nbformat_minor": 5
}
